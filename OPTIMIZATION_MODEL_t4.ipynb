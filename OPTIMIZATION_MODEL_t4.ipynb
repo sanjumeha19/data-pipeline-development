{
  "nbformat": 4,
  "nbformat_minor": 0,
  "metadata": {
    "colab": {
      "provenance": []
    },
    "kernelspec": {
      "name": "python3",
      "display_name": "Python 3"
    },
    "language_info": {
      "name": "python"
    }
  },
  "cells": [
    {
      "cell_type": "code",
      "execution_count": 1,
      "metadata": {
        "colab": {
          "base_uri": "https://localhost:8080/"
        },
        "id": "jVRpnbosOkn3",
        "outputId": "39d208f0-994f-44b2-ea20-319faf980502"
      },
      "outputs": [
        {
          "output_type": "stream",
          "name": "stdout",
          "text": [
            "Optimal Production Plan:\n",
            "Product A: 50.00 units\n",
            "Product B: 0.00 units\n",
            "Maximum Profit: $1500.00\n"
          ]
        }
      ],
      "source": [
        "import sys\n",
        "import subprocess\n",
        "\n",
        "# Ensure PuLP is installed\n",
        "try:\n",
        "    import pulp\n",
        "except ImportError:\n",
        "    subprocess.check_call([sys.executable, \"-m\", \"pip\", \"install\", \"pulp\"])\n",
        "    import pulp\n",
        "\n",
        "from pulp import LpMaximize, LpProblem, LpVariable, PULP_CBC_CMD\n",
        "\n",
        "# Define the LP problem\n",
        "model = LpProblem(name=\"factory-production\", sense=LpMaximize)\n",
        "\n",
        "# Decision variables: number of units to produce\n",
        "A = LpVariable(name=\"Product_A\", lowBound=0, cat='Continuous')\n",
        "B = LpVariable(name=\"Product_B\", lowBound=0, cat='Continuous')\n",
        "\n",
        "# Objective function: Maximize profit\n",
        "model += 30 * A + 40 * B, \"Total_Profit\"\n",
        "\n",
        "# Constraints\n",
        "model += 2 * A + 3 * B <= 100, \"Machine_Hours\"  # Max 100 machine hours available\n",
        "model += 1 * A + 2 * B <= 50, \"Raw_Materials\"  # Max 50 kg of raw materials available\n",
        "\n",
        "# Solve the problem\n",
        "model.solve(PULP_CBC_CMD(msg=False))\n",
        "\n",
        "# Print results\n",
        "print(\"Optimal Production Plan:\")\n",
        "if model.status == 1:\n",
        "    print(f\"Product A: {A.varValue:.2f} units\")\n",
        "    print(f\"Product B: {B.varValue:.2f} units\")\n",
        "    print(f\"Maximum Profit: ${model.objective.value():.2f}\")\n",
        "else:\n",
        "    print(\"No optimal solution found.\")"
      ]
    }
  ]
}